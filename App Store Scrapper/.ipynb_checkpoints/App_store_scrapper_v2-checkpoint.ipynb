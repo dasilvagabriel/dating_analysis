{
 "cells": [
  {
   "cell_type": "code",
   "execution_count": 1,
   "id": "6af69b89",
   "metadata": {
    "scrolled": true
   },
   "outputs": [],
   "source": [
    "#pip install app-store-scraper"
   ]
  },
  {
   "cell_type": "code",
   "execution_count": 2,
   "id": "f77730af",
   "metadata": {
    "scrolled": true
   },
   "outputs": [],
   "source": [
    "import pandas as pd\n",
    "import numpy as np\n",
    "from app_store_scraper import AppStore\n",
    "\n",
    "class AppReviewsScraper:\n",
    "    \"\"\"\n",
    "    A class to scrape app reviews from the Apple App Store.\n",
    "\n",
    "    Parameters\n",
    "    ----------\n",
    "    country : str\n",
    "        Abbreviation in English of the country you want to scrape the reviews.\n",
    "    app_name : str\n",
    "        The name of the app.\n",
    "    app_id : int\n",
    "        The app id on the app store. To find this id, just google app_name on app store.\n",
    "        The end of the url says id followed by the id number.\n",
    "    how_many : int\n",
    "        The number of reviews you want to scrape from the app store.\n",
    "\n",
    "    Attributes\n",
    "    ----------\n",
    "    country : str\n",
    "        Abbreviation in English of the country you want to scrape the reviews.\n",
    "    app_name : str\n",
    "        The name of the app.\n",
    "    app_id : int\n",
    "        The app id on the app store.\n",
    "    how_many : int\n",
    "        The number of reviews you want to scrape from the app store.\n",
    "    app_store : AppStore\n",
    "        An instance of the AppStore class from the app_store_scraper package.\n",
    "\n",
    "    Methods\n",
    "    -------\n",
    "    scrape_reviews():\n",
    "        Scrapes reviews for the given app from the App Store.\n",
    "        Returns a Pandas DataFrame containing the reviews and their associated information.\n",
    "    \n",
    "    export_to_csv(file_path):\n",
    "        Exports the scraped reviews to a CSV file at the given file path.\n",
    "    \"\"\"\n",
    "    def __init__(self, country, app_name, app_id, how_many):\n",
    "        self.country = country\n",
    "        self.app_name = app_name\n",
    "        self.app_id = app_id\n",
    "        self.how_many = how_many\n",
    "        self.app_store = AppStore(country=self.country, app_name=self.app_name, app_id=self.app_id)\n",
    "        \n",
    "    def scrape_reviews(self):\n",
    "        self.app_store.review(how_many=self.how_many)\n",
    "        reviews_df = pd.DataFrame(np.array(self.app_store.reviews), columns=['review'])\n",
    "        reviews_df = reviews_df.join(pd.DataFrame(reviews_df.pop('review').tolist()))\n",
    "        return reviews_df\n",
    "    \n",
    "    def export_to_csv(self, file_path):\n",
    "        reviews_df = self.scrape_reviews()\n",
    "        reviews_df.to_csv(file_path, index=False)"
   ]
  },
  {
   "cell_type": "code",
   "execution_count": null,
   "id": "9a9332fe",
   "metadata": {},
   "outputs": [],
   "source": [
    "# instantiate the class for Grindr app reviews\n",
    "grindr_scraper = AppReviewsScraper(country='us', app_name='grindr', app_id='319881193', how_many=2000)\n",
    "\n",
    "# scrape the reviews and export them to a CSV file\n",
    "grindr_scraper.export_to_csv('grindr_reviews.csv')\n",
    "\n",
    "# instantiate the class for Scruff app reviews\n",
    "scruff_scraper = AppReviewsScraper(country='us', app_name='scruff', app_id='380015247', how_many=2000)\n",
    "\n",
    "# scrape the reviews and export them to a CSV file\n",
    "scruff_scraper.export_to_csv('scruff_reviews.csv')\n",
    "\n",
    "# instantiate the class for Hornet app reviews\n",
    "hornet_scraper = AppReviewsScraper(country='us', app_name='hornet', app_id='462678375', how_many=2000)\n",
    "\n",
    "# scrape the reviews and export them to a CSV file\n",
    "hornet_scraper.export_to_csv('hornet_reviews.csv')\n",
    "\n",
    "# instantiate the class for tinder app reviews\n",
    "tinder_scraper = AppReviewsScraper(country='us', app_name='tinder', app_id='547702041', how_many=2000)\n",
    "\n",
    "# scrape the reviews and export them to a CSV file\n",
    "tinder_scraper.export_to_csv('tinder_reviews.csv')\n",
    "\n",
    "# instantiate the class for badoo app reviews\n",
    "badoo_scraper = AppReviewsScraper(country='us', app_name='badoo', app_id='351331194', how_many=2000)\n",
    "\n",
    "# scrape the reviews and export them to a CSV file\n",
    "badoo_scraper.export_to_csv('badoo_reviews.csv')\n",
    "\n",
    "# instantiate the class for Bumble app reviews\n",
    "bumble_scraper = AppReviewsScraper(country='us', app_name='bumble', app_id='930441707', how_many=2000)\n",
    "\n",
    "# scrape the reviews and export them to a CSV file\n",
    "bumble_scraper.export_to_csv('bumble_reviews.csv')"
   ]
  }
 ],
 "metadata": {
  "kernelspec": {
   "display_name": "Python 3 (ipykernel)",
   "language": "python",
   "name": "python3"
  },
  "language_info": {
   "codemirror_mode": {
    "name": "ipython",
    "version": 3
   },
   "file_extension": ".py",
   "mimetype": "text/x-python",
   "name": "python",
   "nbconvert_exporter": "python",
   "pygments_lexer": "ipython3",
   "version": "3.9.13"
  },
  "vscode": {
   "interpreter": {
    "hash": "ebe0b94344c0f4b7f5f23c6264dd64bfe6fbc608d3c775e4a8d0508d40af3b3e"
   }
  }
 },
 "nbformat": 4,
 "nbformat_minor": 5
}
